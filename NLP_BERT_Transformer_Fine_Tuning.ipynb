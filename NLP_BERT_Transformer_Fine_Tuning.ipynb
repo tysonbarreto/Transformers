{
  "nbformat": 4,
  "nbformat_minor": 0,
  "metadata": {
    "colab": {
      "provenance": [],
      "gpuType": "T4",
      "authorship_tag": "ABX9TyM1xwbxvR0LOnLMpRQJg1cv"
    },
    "kernelspec": {
      "name": "python3",
      "display_name": "Python 3"
    },
    "language_info": {
      "name": "python"
    },
    "widgets": {
      "application/vnd.jupyter.widget-state+json": {
        "d0cef7f66ac94967967981752c980bf3": {
          "model_module": "@jupyter-widgets/controls",
          "model_name": "HBoxModel",
          "model_module_version": "1.5.0",
          "state": {
            "_dom_classes": [],
            "_model_module": "@jupyter-widgets/controls",
            "_model_module_version": "1.5.0",
            "_model_name": "HBoxModel",
            "_view_count": null,
            "_view_module": "@jupyter-widgets/controls",
            "_view_module_version": "1.5.0",
            "_view_name": "HBoxView",
            "box_style": "",
            "children": [
              "IPY_MODEL_1b735339cdfc452ab72715d43fa3d37c",
              "IPY_MODEL_c4128cc5655f4365881e9d536457c5be",
              "IPY_MODEL_669f57e824de4a1aaad61415b142b926"
            ],
            "layout": "IPY_MODEL_d4f15a45a6774c43b441acceea331ce4"
          }
        },
        "1b735339cdfc452ab72715d43fa3d37c": {
          "model_module": "@jupyter-widgets/controls",
          "model_name": "HTMLModel",
          "model_module_version": "1.5.0",
          "state": {
            "_dom_classes": [],
            "_model_module": "@jupyter-widgets/controls",
            "_model_module_version": "1.5.0",
            "_model_name": "HTMLModel",
            "_view_count": null,
            "_view_module": "@jupyter-widgets/controls",
            "_view_module_version": "1.5.0",
            "_view_name": "HTMLView",
            "description": "",
            "description_tooltip": null,
            "layout": "IPY_MODEL_27f0e4ee4c4945d7b47cc9cc729de273",
            "placeholder": "​",
            "style": "IPY_MODEL_33b3c8fd13f24b44802b2c9956205c6f",
            "value": " 91%"
          }
        },
        "c4128cc5655f4365881e9d536457c5be": {
          "model_module": "@jupyter-widgets/controls",
          "model_name": "FloatProgressModel",
          "model_module_version": "1.5.0",
          "state": {
            "_dom_classes": [],
            "_model_module": "@jupyter-widgets/controls",
            "_model_module_version": "1.5.0",
            "_model_name": "FloatProgressModel",
            "_view_count": null,
            "_view_module": "@jupyter-widgets/controls",
            "_view_module_version": "1.5.0",
            "_view_name": "ProgressView",
            "bar_style": "",
            "description": "",
            "description_tooltip": null,
            "layout": "IPY_MODEL_60dd4bb6947d4aae898a025eb944ca05",
            "max": 30400,
            "min": 0,
            "orientation": "horizontal",
            "style": "IPY_MODEL_5c6360deee1c4f678abdd32dfeca8a02",
            "value": 27789
          }
        },
        "669f57e824de4a1aaad61415b142b926": {
          "model_module": "@jupyter-widgets/controls",
          "model_name": "HTMLModel",
          "model_module_version": "1.5.0",
          "state": {
            "_dom_classes": [],
            "_model_module": "@jupyter-widgets/controls",
            "_model_module_version": "1.5.0",
            "_model_name": "HTMLModel",
            "_view_count": null,
            "_view_module": "@jupyter-widgets/controls",
            "_view_module_version": "1.5.0",
            "_view_name": "HTMLView",
            "description": "",
            "description_tooltip": null,
            "layout": "IPY_MODEL_954a858adb2a42fa8b949b078288b149",
            "placeholder": "​",
            "style": "IPY_MODEL_9b6587f18e34455093f8e0468b5483d8",
            "value": " 27789/30400 [00:37&lt;00:03, 793.45it/s]"
          }
        },
        "d4f15a45a6774c43b441acceea331ce4": {
          "model_module": "@jupyter-widgets/base",
          "model_name": "LayoutModel",
          "model_module_version": "1.2.0",
          "state": {
            "_model_module": "@jupyter-widgets/base",
            "_model_module_version": "1.2.0",
            "_model_name": "LayoutModel",
            "_view_count": null,
            "_view_module": "@jupyter-widgets/base",
            "_view_module_version": "1.2.0",
            "_view_name": "LayoutView",
            "align_content": null,
            "align_items": null,
            "align_self": null,
            "border": null,
            "bottom": null,
            "display": null,
            "flex": null,
            "flex_flow": null,
            "grid_area": null,
            "grid_auto_columns": null,
            "grid_auto_flow": null,
            "grid_auto_rows": null,
            "grid_column": null,
            "grid_gap": null,
            "grid_row": null,
            "grid_template_areas": null,
            "grid_template_columns": null,
            "grid_template_rows": null,
            "height": null,
            "justify_content": null,
            "justify_items": null,
            "left": null,
            "margin": null,
            "max_height": null,
            "max_width": null,
            "min_height": null,
            "min_width": null,
            "object_fit": null,
            "object_position": null,
            "order": null,
            "overflow": null,
            "overflow_x": null,
            "overflow_y": null,
            "padding": null,
            "right": null,
            "top": null,
            "visibility": null,
            "width": null
          }
        },
        "27f0e4ee4c4945d7b47cc9cc729de273": {
          "model_module": "@jupyter-widgets/base",
          "model_name": "LayoutModel",
          "model_module_version": "1.2.0",
          "state": {
            "_model_module": "@jupyter-widgets/base",
            "_model_module_version": "1.2.0",
            "_model_name": "LayoutModel",
            "_view_count": null,
            "_view_module": "@jupyter-widgets/base",
            "_view_module_version": "1.2.0",
            "_view_name": "LayoutView",
            "align_content": null,
            "align_items": null,
            "align_self": null,
            "border": null,
            "bottom": null,
            "display": null,
            "flex": null,
            "flex_flow": null,
            "grid_area": null,
            "grid_auto_columns": null,
            "grid_auto_flow": null,
            "grid_auto_rows": null,
            "grid_column": null,
            "grid_gap": null,
            "grid_row": null,
            "grid_template_areas": null,
            "grid_template_columns": null,
            "grid_template_rows": null,
            "height": null,
            "justify_content": null,
            "justify_items": null,
            "left": null,
            "margin": null,
            "max_height": null,
            "max_width": null,
            "min_height": null,
            "min_width": null,
            "object_fit": null,
            "object_position": null,
            "order": null,
            "overflow": null,
            "overflow_x": null,
            "overflow_y": null,
            "padding": null,
            "right": null,
            "top": null,
            "visibility": null,
            "width": null
          }
        },
        "33b3c8fd13f24b44802b2c9956205c6f": {
          "model_module": "@jupyter-widgets/controls",
          "model_name": "DescriptionStyleModel",
          "model_module_version": "1.5.0",
          "state": {
            "_model_module": "@jupyter-widgets/controls",
            "_model_module_version": "1.5.0",
            "_model_name": "DescriptionStyleModel",
            "_view_count": null,
            "_view_module": "@jupyter-widgets/base",
            "_view_module_version": "1.2.0",
            "_view_name": "StyleView",
            "description_width": ""
          }
        },
        "60dd4bb6947d4aae898a025eb944ca05": {
          "model_module": "@jupyter-widgets/base",
          "model_name": "LayoutModel",
          "model_module_version": "1.2.0",
          "state": {
            "_model_module": "@jupyter-widgets/base",
            "_model_module_version": "1.2.0",
            "_model_name": "LayoutModel",
            "_view_count": null,
            "_view_module": "@jupyter-widgets/base",
            "_view_module_version": "1.2.0",
            "_view_name": "LayoutView",
            "align_content": null,
            "align_items": null,
            "align_self": null,
            "border": null,
            "bottom": null,
            "display": null,
            "flex": null,
            "flex_flow": null,
            "grid_area": null,
            "grid_auto_columns": null,
            "grid_auto_flow": null,
            "grid_auto_rows": null,
            "grid_column": null,
            "grid_gap": null,
            "grid_row": null,
            "grid_template_areas": null,
            "grid_template_columns": null,
            "grid_template_rows": null,
            "height": null,
            "justify_content": null,
            "justify_items": null,
            "left": null,
            "margin": null,
            "max_height": null,
            "max_width": null,
            "min_height": null,
            "min_width": null,
            "object_fit": null,
            "object_position": null,
            "order": null,
            "overflow": null,
            "overflow_x": null,
            "overflow_y": null,
            "padding": null,
            "right": null,
            "top": null,
            "visibility": null,
            "width": null
          }
        },
        "5c6360deee1c4f678abdd32dfeca8a02": {
          "model_module": "@jupyter-widgets/controls",
          "model_name": "ProgressStyleModel",
          "model_module_version": "1.5.0",
          "state": {
            "_model_module": "@jupyter-widgets/controls",
            "_model_module_version": "1.5.0",
            "_model_name": "ProgressStyleModel",
            "_view_count": null,
            "_view_module": "@jupyter-widgets/base",
            "_view_module_version": "1.2.0",
            "_view_name": "StyleView",
            "bar_color": null,
            "description_width": ""
          }
        },
        "954a858adb2a42fa8b949b078288b149": {
          "model_module": "@jupyter-widgets/base",
          "model_name": "LayoutModel",
          "model_module_version": "1.2.0",
          "state": {
            "_model_module": "@jupyter-widgets/base",
            "_model_module_version": "1.2.0",
            "_model_name": "LayoutModel",
            "_view_count": null,
            "_view_module": "@jupyter-widgets/base",
            "_view_module_version": "1.2.0",
            "_view_name": "LayoutView",
            "align_content": null,
            "align_items": null,
            "align_self": null,
            "border": null,
            "bottom": null,
            "display": null,
            "flex": null,
            "flex_flow": null,
            "grid_area": null,
            "grid_auto_columns": null,
            "grid_auto_flow": null,
            "grid_auto_rows": null,
            "grid_column": null,
            "grid_gap": null,
            "grid_row": null,
            "grid_template_areas": null,
            "grid_template_columns": null,
            "grid_template_rows": null,
            "height": null,
            "justify_content": null,
            "justify_items": null,
            "left": null,
            "margin": null,
            "max_height": null,
            "max_width": null,
            "min_height": null,
            "min_width": null,
            "object_fit": null,
            "object_position": null,
            "order": null,
            "overflow": null,
            "overflow_x": null,
            "overflow_y": null,
            "padding": null,
            "right": null,
            "top": null,
            "visibility": null,
            "width": null
          }
        },
        "9b6587f18e34455093f8e0468b5483d8": {
          "model_module": "@jupyter-widgets/controls",
          "model_name": "DescriptionStyleModel",
          "model_module_version": "1.5.0",
          "state": {
            "_model_module": "@jupyter-widgets/controls",
            "_model_module_version": "1.5.0",
            "_model_name": "DescriptionStyleModel",
            "_view_count": null,
            "_view_module": "@jupyter-widgets/base",
            "_view_module_version": "1.2.0",
            "_view_name": "StyleView",
            "description_width": ""
          }
        }
      }
    },
    "accelerator": "GPU"
  },
  "cells": [
    {
      "cell_type": "code",
      "source": [
        "pip install lightning --quiet"
      ],
      "metadata": {
        "id": "gR0kj4zvyXCM"
      },
      "execution_count": 1,
      "outputs": []
    },
    {
      "cell_type": "code",
      "source": [
        "import os\n",
        "import pandas as pd\n",
        "import numpy as np\n",
        "\n",
        "import lightning as L\n",
        "from lightning.pytorch.callbacks.early_stopping import EarlyStopping\n",
        "from lightning.pytorch.callbacks import ModelCheckpoint\n",
        "from lightning.pytorch.loggers import TensorBoardLogger\n",
        "from lightning.pytorch.utilities.memory import garbage_collection_cuda\n",
        "\n",
        "import torch\n",
        "import torch.nn as nn\n",
        "import torch.nn.functional as F\n",
        "from torch.utils.data import DataLoader, Dataset, TensorDataset, random_split\n",
        "from torch.optim import Adam\n",
        "\n",
        "from sklearn.model_selection import train_test_split\n",
        "from transformers import BertTokenizer, BertModel, AdamW, get_linear_schedule_with_warmup\n",
        "\n",
        "import seaborn as sns\n",
        "import matplotlib.pyplot as plt\n",
        "\n",
        "from torchmetrics import AUROC\n",
        "\n",
        "from tqdm.auto import tqdm\n",
        "%matplotlib inline\n"
      ],
      "metadata": {
        "id": "qcOgbBL8y2GV"
      },
      "execution_count": 2,
      "outputs": []
    },
    {
      "cell_type": "markdown",
      "source": [
        "## Load the Data"
      ],
      "metadata": {
        "id": "q0UaXaL00omL"
      }
    },
    {
      "cell_type": "code",
      "source": [
        "os.environ['KAGGLE_CONFIG_DIR'] = '.'"
      ],
      "metadata": {
        "id": "QbCWIrnCyXq7"
      },
      "execution_count": 3,
      "outputs": []
    },
    {
      "cell_type": "code",
      "source": [
        "try:\n",
        "  !kaggle competitions download -c jigsaw-toxic-comment-classification-challenge\n",
        "  ! unzip jigsaw-toxic-comment-classification-challenge -d data\n",
        "  print('Files downloaded and added to data folder')\n",
        "except:\n",
        "  print('Files present on drive')"
      ],
      "metadata": {
        "colab": {
          "base_uri": "https://localhost:8080/"
        },
        "id": "H4yq6GSuyX6q",
        "outputId": "3ca881cf-fa21-456d-a1cf-2394df747246"
      },
      "execution_count": 4,
      "outputs": [
        {
          "output_type": "stream",
          "name": "stdout",
          "text": [
            "Warning: Your Kaggle API key is readable by other users on this system! To fix this, you can run 'chmod 600 ./kaggle.json'\n",
            "Downloading jigsaw-toxic-comment-classification-challenge.zip to /content\n",
            " 93% 49.0M/52.6M [00:00<00:00, 131MB/s]\n",
            "100% 52.6M/52.6M [00:00<00:00, 121MB/s]\n",
            "Archive:  jigsaw-toxic-comment-classification-challenge.zip\n",
            "  inflating: data/sample_submission.csv.zip  \n",
            "  inflating: data/test.csv.zip       \n",
            "  inflating: data/test_labels.csv.zip  \n",
            "  inflating: data/train.csv.zip      \n",
            "Files downloaded and added to data folder\n"
          ]
        }
      ]
    },
    {
      "cell_type": "code",
      "source": [
        "raw_df = pd.read_csv('data/train.csv.zip')\n",
        "test_df = pd.read_csv('data/test.csv.zip')\n",
        "sub_df = pd.read_csv('data/sample_submission.csv.zip')"
      ],
      "metadata": {
        "id": "-buSubjjyyx0"
      },
      "execution_count": 4,
      "outputs": []
    },
    {
      "cell_type": "markdown",
      "source": [
        "## PreProcessing"
      ],
      "metadata": {
        "id": "UcP-KzaC0qfJ"
      }
    },
    {
      "cell_type": "code",
      "source": [
        "train_df, val_df = train_test_split(raw_df, test_size=0.05)"
      ],
      "metadata": {
        "id": "7URD33yJz1Bz"
      },
      "execution_count": 5,
      "outputs": []
    },
    {
      "cell_type": "code",
      "source": [
        "train_df.shape, val_df.shape"
      ],
      "metadata": {
        "colab": {
          "base_uri": "https://localhost:8080/"
        },
        "id": "vkIa1NqX0kDj",
        "outputId": "4f1a2422-fa26-4481-b989-4f1f2b895f90"
      },
      "execution_count": 6,
      "outputs": [
        {
          "output_type": "execute_result",
          "data": {
            "text/plain": [
              "((151592, 8), (7979, 8))"
            ]
          },
          "metadata": {},
          "execution_count": 6
        }
      ]
    },
    {
      "cell_type": "code",
      "source": [
        "LABEL_COLUMNS = raw_df.columns[2:]"
      ],
      "metadata": {
        "id": "pbBd2VSe0vn_"
      },
      "execution_count": 7,
      "outputs": []
    },
    {
      "cell_type": "code",
      "source": [
        "train_df[LABEL_COLUMNS].sum()"
      ],
      "metadata": {
        "colab": {
          "base_uri": "https://localhost:8080/"
        },
        "id": "E2bdHMXZ0vlS",
        "outputId": "963797e6-7df7-40aa-fcbe-24c145c6d356"
      },
      "execution_count": 8,
      "outputs": [
        {
          "output_type": "execute_result",
          "data": {
            "text/plain": [
              "toxic            14519\n",
              "severe_toxic      1521\n",
              "obscene           8021\n",
              "threat             451\n",
              "insult            7487\n",
              "identity_hate     1327\n",
              "dtype: int64"
            ]
          },
          "metadata": {},
          "execution_count": 8
        }
      ]
    },
    {
      "cell_type": "code",
      "source": [
        "train_toxic = train_df[train_df[LABEL_COLUMNS].sum(axis=1)>0]"
      ],
      "metadata": {
        "id": "tZOWVpH40viz"
      },
      "execution_count": 9,
      "outputs": []
    },
    {
      "cell_type": "code",
      "source": [
        "train_toxic[LABEL_COLUMNS].sum()"
      ],
      "metadata": {
        "colab": {
          "base_uri": "https://localhost:8080/"
        },
        "id": "up1qj3xI0vgi",
        "outputId": "771a746a-d6b7-4794-deee-4553d05107f5"
      },
      "execution_count": 10,
      "outputs": [
        {
          "output_type": "execute_result",
          "data": {
            "text/plain": [
              "toxic            14519\n",
              "severe_toxic      1521\n",
              "obscene           8021\n",
              "threat             451\n",
              "insult            7487\n",
              "identity_hate     1327\n",
              "dtype: int64"
            ]
          },
          "metadata": {},
          "execution_count": 10
        }
      ]
    },
    {
      "cell_type": "code",
      "source": [
        "train_clean = train_df[train_df[LABEL_COLUMNS].sum(axis=1)==0]"
      ],
      "metadata": {
        "id": "qZXoh4oL0ved"
      },
      "execution_count": 11,
      "outputs": []
    },
    {
      "cell_type": "code",
      "source": [
        "train_toxic.shape, train_clean.shape"
      ],
      "metadata": {
        "colab": {
          "base_uri": "https://localhost:8080/"
        },
        "id": "YFZtNCrA0vbq",
        "outputId": "766cbd52-6d8c-4bd8-c0ac-6eaae5d7f6ce"
      },
      "execution_count": 12,
      "outputs": [
        {
          "output_type": "execute_result",
          "data": {
            "text/plain": [
              "((15400, 8), (136192, 8))"
            ]
          },
          "metadata": {},
          "execution_count": 12
        }
      ]
    },
    {
      "cell_type": "code",
      "source": [
        "train_df = pd.concat(\n",
        "    [train_toxic,\n",
        "    train_clean.sample(15_000)]\n",
        ")"
      ],
      "metadata": {
        "id": "a9aUUur10vZb"
      },
      "execution_count": 13,
      "outputs": []
    },
    {
      "cell_type": "code",
      "source": [
        "train_df[LABEL_COLUMNS].sum()"
      ],
      "metadata": {
        "colab": {
          "base_uri": "https://localhost:8080/"
        },
        "id": "xxr96_Jh0vWo",
        "outputId": "6748acfb-645e-4f5f-e426-5572b1e76b45"
      },
      "execution_count": 14,
      "outputs": [
        {
          "output_type": "execute_result",
          "data": {
            "text/plain": [
              "toxic            14519\n",
              "severe_toxic      1521\n",
              "obscene           8021\n",
              "threat             451\n",
              "insult            7487\n",
              "identity_hate     1327\n",
              "dtype: int64"
            ]
          },
          "metadata": {},
          "execution_count": 14
        }
      ]
    },
    {
      "cell_type": "code",
      "source": [
        "train_df.shape"
      ],
      "metadata": {
        "colab": {
          "base_uri": "https://localhost:8080/"
        },
        "id": "TxbxxyY_0vSe",
        "outputId": "a1261221-3ff6-441b-bc7b-5bdf2b351c43"
      },
      "execution_count": 15,
      "outputs": [
        {
          "output_type": "execute_result",
          "data": {
            "text/plain": [
              "(30400, 8)"
            ]
          },
          "metadata": {},
          "execution_count": 15
        }
      ]
    },
    {
      "cell_type": "code",
      "source": [
        "train_df.iloc[46].comment_text"
      ],
      "metadata": {
        "colab": {
          "base_uri": "https://localhost:8080/",
          "height": 35
        },
        "id": "lMzl4HKY4wsx",
        "outputId": "eb77b03f-1cdd-4f71-923c-420f24ddeb73"
      },
      "execution_count": 16,
      "outputs": [
        {
          "output_type": "execute_result",
          "data": {
            "text/plain": [
              "'[[==:Amortias is M(o)ther (fu)k(er)=='"
            ],
            "application/vnd.google.colaboratory.intrinsic+json": {
              "type": "string"
            }
          },
          "metadata": {},
          "execution_count": 16
        }
      ]
    },
    {
      "cell_type": "code",
      "source": [
        "train_df[LABEL_COLUMNS].iloc[46]"
      ],
      "metadata": {
        "colab": {
          "base_uri": "https://localhost:8080/"
        },
        "id": "LLqx1SJm4wqU",
        "outputId": "6925d302-6c2e-4b7f-a9b1-4671d906f54d"
      },
      "execution_count": 17,
      "outputs": [
        {
          "output_type": "execute_result",
          "data": {
            "text/plain": [
              "toxic            1\n",
              "severe_toxic     0\n",
              "obscene          1\n",
              "threat           0\n",
              "insult           1\n",
              "identity_hate    0\n",
              "Name: 156608, dtype: int64"
            ]
          },
          "metadata": {},
          "execution_count": 17
        }
      ]
    },
    {
      "cell_type": "markdown",
      "source": [
        "## Tokenizer"
      ],
      "metadata": {
        "id": "OP4t3CRN6mZJ"
      }
    },
    {
      "cell_type": "code",
      "source": [
        "BERT_MODEL_NAME = \"bert-base-cased\"\n",
        "tokenizer = BertTokenizer.from_pretrained(BERT_MODEL_NAME)"
      ],
      "metadata": {
        "id": "2kguj64b6l6S",
        "colab": {
          "base_uri": "https://localhost:8080/"
        },
        "outputId": "cfcf771d-fd6b-483c-d9eb-b53eff2c5845"
      },
      "execution_count": 18,
      "outputs": [
        {
          "output_type": "stream",
          "name": "stderr",
          "text": [
            "/usr/local/lib/python3.10/dist-packages/huggingface_hub/utils/_token.py:89: UserWarning: \n",
            "The secret `HF_TOKEN` does not exist in your Colab secrets.\n",
            "To authenticate with the Hugging Face Hub, create a token in your settings tab (https://huggingface.co/settings/tokens), set it as secret in your Google Colab and restart your session.\n",
            "You will be able to reuse this secret in all of your notebooks.\n",
            "Please note that authentication is recommended but still optional to access public models or datasets.\n",
            "  warnings.warn(\n"
          ]
        }
      ]
    },
    {
      "cell_type": "code",
      "source": [
        "## Check avg token legth from the training set\n",
        "\n",
        "token_count =[]\n",
        "for index, row in tqdm(train_df.iterrows(),total=len(train_df)):\n",
        "  TOKEN_LENGTH = len(tokenizer.encode(row.comment_text, max_length=512, truncation=True))\n",
        "  token_count.append(TOKEN_LENGTH)"
      ],
      "metadata": {
        "colab": {
          "base_uri": "https://localhost:8080/",
          "height": 49,
          "referenced_widgets": [
            "d0cef7f66ac94967967981752c980bf3",
            "1b735339cdfc452ab72715d43fa3d37c",
            "c4128cc5655f4365881e9d536457c5be",
            "669f57e824de4a1aaad61415b142b926",
            "d4f15a45a6774c43b441acceea331ce4",
            "27f0e4ee4c4945d7b47cc9cc729de273",
            "33b3c8fd13f24b44802b2c9956205c6f",
            "60dd4bb6947d4aae898a025eb944ca05",
            "5c6360deee1c4f678abdd32dfeca8a02",
            "954a858adb2a42fa8b949b078288b149",
            "9b6587f18e34455093f8e0468b5483d8"
          ]
        },
        "id": "-wEHFfpz6kCp",
        "outputId": "314852dd-bb2b-4f04-ef69-8fc68bd1b077"
      },
      "execution_count": null,
      "outputs": [
        {
          "output_type": "display_data",
          "data": {
            "text/plain": [
              "  0%|          | 0/30400 [00:00<?, ?it/s]"
            ],
            "application/vnd.jupyter.widget-view+json": {
              "version_major": 2,
              "version_minor": 0,
              "model_id": "d0cef7f66ac94967967981752c980bf3"
            }
          },
          "metadata": {}
        }
      ]
    },
    {
      "cell_type": "code",
      "source": [
        "sns.histplot(token_count)\n",
        "plt.show()"
      ],
      "metadata": {
        "id": "_w8G1g6b4wn3"
      },
      "execution_count": null,
      "outputs": []
    },
    {
      "cell_type": "code",
      "source": [
        "type(tokenizer)"
      ],
      "metadata": {
        "id": "M8A7AM13FKrl"
      },
      "execution_count": null,
      "outputs": []
    },
    {
      "cell_type": "markdown",
      "source": [
        "## Create Dataset"
      ],
      "metadata": {
        "id": "4Ydk-_83CyKh"
      }
    },
    {
      "cell_type": "code",
      "source": [
        "class create_dataset(Dataset):\n",
        "  def __init__(self, df:pd.DataFrame, tokenizer=tokenizer, max_length: int=512)-> Dataset:\n",
        "    super().__init__()\n",
        "    self.df = df\n",
        "    self.tokenizer = tokenizer\n",
        "    self.max_length = max_length\n",
        "\n",
        "  def __len__(self):\n",
        "    return len(self.df)\n",
        "\n",
        "  def __getitem__(self,idx:int):\n",
        "    comment_text = self.df.iloc[idx].comment_text\n",
        "    labels = self.df.iloc[idx][LABEL_COLUMNS]\n",
        "\n",
        "    encoding = self.tokenizer.encode_plus(\n",
        "        comment_text,\n",
        "        add_special_tokens =True,\n",
        "        max_length = self.max_length,\n",
        "        return_token_type_ids = False,\n",
        "        padding=\"max_length\",\n",
        "        truncation=True,\n",
        "        return_attention_mask=True,\n",
        "        return_tensors='pt'\n",
        "    )\n",
        "\n",
        "    return dict(\n",
        "        comment_text = comment_text,\n",
        "        input_ids = encoding['input_ids'].flatten(),\n",
        "        attention_mask = encoding['attention_mask'].flatten(),\n",
        "        labels = torch.Tensor(labels)\n",
        "    )\n",
        "\n",
        "\n"
      ],
      "metadata": {
        "id": "SzP77juTCxqU"
      },
      "execution_count": null,
      "outputs": []
    },
    {
      "cell_type": "code",
      "source": [
        "ds = create_dataset(train_df)"
      ],
      "metadata": {
        "id": "wyU22pO94wlp"
      },
      "execution_count": null,
      "outputs": []
    },
    {
      "cell_type": "code",
      "source": [
        "ds[0]['input_ids'].shape"
      ],
      "metadata": {
        "id": "RYi1wgbF4wjk"
      },
      "execution_count": null,
      "outputs": []
    },
    {
      "cell_type": "code",
      "source": [
        "len(ds)"
      ],
      "metadata": {
        "id": "7_x-v8TQ4whH"
      },
      "execution_count": null,
      "outputs": []
    },
    {
      "cell_type": "markdown",
      "source": [
        "## Model"
      ],
      "metadata": {
        "id": "bvaM-QgscSgF"
      }
    },
    {
      "cell_type": "code",
      "source": [
        "bert_model = BertModel.from_pretrained(BERT_MODEL_NAME, return_dict=True)"
      ],
      "metadata": {
        "id": "WNzKjlie4wfI"
      },
      "execution_count": null,
      "outputs": []
    },
    {
      "cell_type": "code",
      "source": [
        "bert_model.config"
      ],
      "metadata": {
        "id": "Qk5cj2_x4waf"
      },
      "execution_count": null,
      "outputs": []
    },
    {
      "cell_type": "markdown",
      "source": [
        "## PyTorch DataModule"
      ],
      "metadata": {
        "id": "neL0zdv_d0a1"
      }
    },
    {
      "cell_type": "code",
      "source": [
        "class create_data_module(L.LightningDataModule):\n",
        "  def __init__(self, train_df:pd.DataFrame,val_df:pd.DataFrame,test_df:pd.DataFrame, tokenizer=tokenizer, max_length: int=512, batch_size: int=6)-> None:\n",
        "    super().__init__()\n",
        "    self.train_df = train_df\n",
        "    self.val_df=val_df\n",
        "    self.test_df=test_df\n",
        "    self.tokenizer = tokenizer\n",
        "    self.max_length = max_length\n",
        "    self.batch_size = batch_size\n",
        "\n",
        "  def setup(self, stage=None):\n",
        "    self.train_ds = create_dataset(self.train_df, self.tokenizer, self.max_length)\n",
        "    self.val_ds = create_dataset(self.val_df, self.tokenizer, self.max_length)\n",
        "    self.test_ds = create_dataset(self.test_df, self.tokenizer, self.max_length)\n",
        "\n",
        "\n",
        "  def train_dataloader(self):\n",
        "    return DataLoader(\n",
        "        self.train_ds,\n",
        "        batch_size=self.batch_size,\n",
        "        shuffle=True,\n",
        "        pin_memory=True,\n",
        "        num_workers=8\n",
        "    )\n",
        "  def val_dataloader(self):\n",
        "    return DataLoader(\n",
        "        self.val_ds,\n",
        "        batch_size=self.batch_size*2,\n",
        "        shuffle=False,\n",
        "        pin_memory=True,\n",
        "        num_workers=8\n",
        "    )\n",
        "\n",
        "  def test_dataloader(self):\n",
        "    return DataLoader(\n",
        "        self.test_ds,\n",
        "        batch_size=1\n",
        "    )\n",
        "\n"
      ],
      "metadata": {
        "id": "iDqtnhEpdzQ1"
      },
      "execution_count": null,
      "outputs": []
    },
    {
      "cell_type": "code",
      "source": [
        "data_module = create_data_module(train_df,val_df,test_df)"
      ],
      "metadata": {
        "id": "P5O7dz5J4wYY"
      },
      "execution_count": null,
      "outputs": []
    },
    {
      "cell_type": "code",
      "source": [
        "data_module.setup()"
      ],
      "metadata": {
        "id": "E5QCCnMs4wV9"
      },
      "execution_count": null,
      "outputs": []
    },
    {
      "cell_type": "markdown",
      "source": [
        "## Fine Tuning BERT Model"
      ],
      "metadata": {
        "id": "EnRBOT5PgCvM"
      }
    },
    {
      "cell_type": "code",
      "source": [
        "class FTModel(L.LightningModule):\n",
        "\n",
        "  def __init__(self, n_classes: int, n_training_steps=None, n_warmup_steps=None):\n",
        "    super().__init__()\n",
        "    self.bert = BertModel.from_pretrained(BERT_MODEL_NAME, return_dict=True)\n",
        "    self.classifier = nn.Linear(self.bert.config.hidden_size, n_classes)\n",
        "    self.n_training_steps = n_training_steps\n",
        "    self.n_warmup_steps = n_warmup_steps\n",
        "    self.criterion = nn.BCEWithLogitsLoss()\n",
        "    self.training_outputs = []\n",
        "\n",
        "  def forward(self, input_ids, attention_mask, labels=None):\n",
        "    output = self.bert(input_ids, attention_mask=attention_mask)\n",
        "    output = self.classifier(output.pooler_output)\n",
        "    output = torch.sigmoid(output)\n",
        "    loss = 0\n",
        "    if labels is not None:\n",
        "        loss = self.criterion(output, labels)\n",
        "    return loss, output\n",
        "\n",
        "  def training_step(self, batch, batch_idx):\n",
        "    input_ids = batch[\"input_ids\"]\n",
        "    attention_mask = batch[\"attention_mask\"]\n",
        "    labels = batch[\"labels\"]\n",
        "    loss, outputs = self(input_ids, attention_mask, labels)\n",
        "    self.training_outputs.append({\"predictions\": outputs, \"labels\": labels})\n",
        "    self.log(\"train_loss\", loss, prog_bar=True, logger=True)\n",
        "    return {\"loss\": loss}\n",
        "\n",
        "  def validation_step(self, batch, batch_idx):\n",
        "    input_ids = batch[\"input_ids\"]\n",
        "    attention_mask = batch[\"attention_mask\"]\n",
        "    labels = batch[\"labels\"]\n",
        "    loss, outputs = self(input_ids, attention_mask, labels)\n",
        "    self.log(\"val_loss\", loss, prog_bar=True, logger=True)\n",
        "    return loss\n",
        "\n",
        "  def test_step(self, batch, batch_idx):\n",
        "    input_ids = batch[\"input_ids\"]\n",
        "    attention_mask = batch[\"attention_mask\"]\n",
        "    labels = batch[\"labels\"]\n",
        "    loss, outputs = self(input_ids, attention_mask, labels)\n",
        "    self.log(\"test_loss\", loss, prog_bar=True, logger=True)\n",
        "    return loss\n",
        "\n",
        "  def on_train_epoch_end(self):\n",
        "\n",
        "    labels = torch.stack([out_labels[\"labels\"]for out_labels in training_outputs]).int()\n",
        "    predictions = torch.stack([out_labels[\"predictions\"]for out_labels in training_outputs])\n",
        "\n",
        "    for i, name in enumerate(LABEL_COLUMNS):\n",
        "      class_roc_auc = auroc(predictions[:, i], labels[:, i])\n",
        "      self.logger.experiment.add_scalar(f\"{name}_roc_auc/Train\", class_roc_auc, self.current_epoch)\n",
        "\n",
        "    self.training_outputs.clear()\n",
        "\n",
        "  def configure_optimizers(self):\n",
        "\n",
        "    optimizer = AdamW(self.parameters(), lr=2e-5)\n",
        "\n",
        "    scheduler = get_linear_schedule_with_warmup(\n",
        "      optimizer,\n",
        "      num_warmup_steps=self.n_warmup_steps,\n",
        "      num_training_steps=self.n_training_steps\n",
        "    )\n",
        "\n",
        "    return dict(\n",
        "      optimizer=optimizer,\n",
        "      lr_scheduler=dict(\n",
        "        scheduler=scheduler,\n",
        "        interval='step'\n",
        "      )\n",
        "    )\n",
        "\n"
      ],
      "metadata": {
        "id": "8lds-FwW4wTq"
      },
      "execution_count": null,
      "outputs": []
    },
    {
      "cell_type": "code",
      "source": [
        "dl = DataLoader(ds, batch_size=4)"
      ],
      "metadata": {
        "id": "hygku4RuLI6B"
      },
      "execution_count": null,
      "outputs": []
    },
    {
      "cell_type": "code",
      "source": [
        "input_ids, _, attention_mask, labels = batch['input_ids'], batch['comment_text'], batch['attention_mask'], batch['labels']"
      ],
      "metadata": {
        "id": "GLKZktaVLIsP"
      },
      "execution_count": 106,
      "outputs": []
    },
    {
      "cell_type": "code",
      "source": [
        "bert = BertModel.from_pretrained(BERT_MODEL_NAME, return_dict=True)\n",
        "linear = nn.Linear(in_features= bert.config.hidden_size, out_features = len(LABEL_COLUMNS))"
      ],
      "metadata": {
        "id": "blI8YkIML4FO"
      },
      "execution_count": 107,
      "outputs": []
    },
    {
      "cell_type": "code",
      "source": [
        "output = bert(input_ids, attention_mask)"
      ],
      "metadata": {
        "id": "_DR0O2xzL3_S"
      },
      "execution_count": 108,
      "outputs": []
    },
    {
      "cell_type": "code",
      "source": [
        "out = linear(output.pooler_output)"
      ],
      "metadata": {
        "id": "VZSG73D5L386"
      },
      "execution_count": 109,
      "outputs": []
    },
    {
      "cell_type": "code",
      "source": [
        "criterion = nn.BCEWithLogitsLoss()"
      ],
      "metadata": {
        "id": "9FvbE_jzL3xo"
      },
      "execution_count": 110,
      "outputs": []
    },
    {
      "cell_type": "code",
      "source": [
        "criterion(out, labels)"
      ],
      "metadata": {
        "colab": {
          "base_uri": "https://localhost:8080/"
        },
        "id": "2GG_x_UsL3q_",
        "outputId": "8a1f5fc2-5ce0-4aff-ff98-d232ee555831"
      },
      "execution_count": 111,
      "outputs": [
        {
          "output_type": "execute_result",
          "data": {
            "text/plain": [
              "tensor(0.7827, grad_fn=<BinaryCrossEntropyWithLogitsBackward0>)"
            ]
          },
          "metadata": {},
          "execution_count": 111
        }
      ]
    },
    {
      "cell_type": "markdown",
      "source": [
        "## Train and Evaluate Model"
      ],
      "metadata": {
        "id": "cF2D8EXi2ID6"
      }
    },
    {
      "cell_type": "code",
      "source": [
        "%load_ext tensorboard\n",
        "%tensorboard --logdir ./lightning_logs"
      ],
      "metadata": {
        "id": "OQeFkpyy2aE0"
      },
      "execution_count": null,
      "outputs": []
    },
    {
      "cell_type": "code",
      "source": [
        "logger =TensorBoardLogger('lightning_logs', name='NLPTextClassification')\n",
        "checkpoint_callback = ModelCheckpoint(\n",
        "    dirpath = 'checkpoints',\n",
        "    filename = 'best-checkpoint',\n",
        "    save_top_k = 1,\n",
        "    verbose = True,\n",
        "    monitor='val_loss',\n",
        "    mode='min'\n",
        ")\n",
        "early_stopping = EarlyStopping(monitor='val_loss', patience=5)"
      ],
      "metadata": {
        "id": "9dePS1cp3Aqk"
      },
      "execution_count": null,
      "outputs": []
    },
    {
      "cell_type": "code",
      "source": [
        "trainer = L.Trainer(\n",
        "    logger = logger,\n",
        "    callbacks = [checkpoint_callback,early_stopping],\n",
        "    max_epochs=3,\n",
        "    devices=1,\n",
        "    accelerator='gpu',\n",
        "    enable_progress_bar=True,\n",
        "    enable_model_summary=True,\n",
        "    precision='16-mixed'\n",
        ")"
      ],
      "metadata": {
        "id": "aeg7YxQ23i-U"
      },
      "execution_count": null,
      "outputs": []
    },
    {
      "cell_type": "code",
      "source": [
        "model = FTModel(n_classes=len(LABEL_COLUMNS), n_warmup_steps=1, n_training_steps=len(train_df))"
      ],
      "metadata": {
        "id": "pmetTvyC-r5q"
      },
      "execution_count": null,
      "outputs": []
    },
    {
      "cell_type": "code",
      "source": [
        "trainer.fit(model, data_module)"
      ],
      "metadata": {
        "id": "gfjfHone8ho7"
      },
      "execution_count": null,
      "outputs": []
    },
    {
      "cell_type": "markdown",
      "source": [
        "## Prediction"
      ],
      "metadata": {
        "id": "7mPnPhXfRjBh"
      }
    },
    {
      "cell_type": "code",
      "source": [
        "model.eval()\n",
        "model.freeze()"
      ],
      "metadata": {
        "id": "KoeU16Il-GjL"
      },
      "execution_count": 69,
      "outputs": []
    },
    {
      "cell_type": "code",
      "source": [
        "comment_text = test_df.iloc[0].comment_text\n",
        "\n",
        "encoding = tokenizer.encode_plus(\n",
        "    comment_text,\n",
        "    add_special_tokens =True,\n",
        "    max_length = 512,\n",
        "    return_token_type_ids = False,\n",
        "    padding=\"max_length\",\n",
        "    truncation=True,\n",
        "    return_attention_mask=True,\n",
        "    return_tensors='pt'\n",
        ")\n"
      ],
      "metadata": {
        "id": "sfUYiTBUR3ok"
      },
      "execution_count": 86,
      "outputs": []
    },
    {
      "cell_type": "code",
      "source": [
        "preds = model(encoding['input_ids'],encoding['attention_mask'])[-1].flatten()"
      ],
      "metadata": {
        "id": "vwTO3jK3R3iM"
      },
      "execution_count": 95,
      "outputs": []
    },
    {
      "cell_type": "code",
      "source": [
        "dict(zip(preds,LABEL_COLUMNS))"
      ],
      "metadata": {
        "id": "M2MlfAuPR3eE"
      },
      "execution_count": null,
      "outputs": []
    }
  ]
}